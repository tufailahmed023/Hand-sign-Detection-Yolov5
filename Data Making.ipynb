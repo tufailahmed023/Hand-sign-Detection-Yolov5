{
 "cells": [
  {
   "cell_type": "code",
   "execution_count": null,
   "id": "34acd764",
   "metadata": {},
   "outputs": [],
   "source": [
    "!pip install opencv-python"
   ]
  },
  {
   "cell_type": "code",
   "execution_count": 1,
   "id": "83be7857",
   "metadata": {},
   "outputs": [],
   "source": [
    "import os\n",
    "import time\n",
    "import glob\n",
    "import cv2\n"
   ]
  },
  {
   "cell_type": "code",
   "execution_count": 2,
   "id": "a8bae38b",
   "metadata": {},
   "outputs": [],
   "source": [
    "labels = ['Up','Down','Left','Right','ThumbsUp']"
   ]
  },
  {
   "cell_type": "code",
   "execution_count": 3,
   "id": "9d580b21",
   "metadata": {},
   "outputs": [],
   "source": [
    "for i in labels:\n",
    "    video_path = f'./{i}/video'\n",
    "    image_path = f'./{i}/images'\n",
    "    if not os.path.exists(video_path) and not os.path.exists(image_path):\n",
    "        os.makedirs(video_path)\n",
    "        os.makedirs(image_path)\n",
    "    "
   ]
  },
  {
   "cell_type": "code",
   "execution_count": 4,
   "id": "41c7e644",
   "metadata": {
    "scrolled": false
   },
   "outputs": [
    {
     "data": {
      "text/plain": [
       "['images', 'video']"
      ]
     },
     "execution_count": 4,
     "metadata": {},
     "output_type": "execute_result"
    }
   ],
   "source": [
    "os.listdir(os.path.abspath('Up'))"
   ]
  },
  {
   "cell_type": "code",
   "execution_count": 7,
   "id": "81644613",
   "metadata": {},
   "outputs": [],
   "source": [
    "def cap_video(folder_name):\n",
    "    import cv2\n",
    "    import time\n",
    "\n",
    "    cap = cv2.VideoCapture(0)\n",
    "\n",
    "    # Define the codec and create VideoWriter object\n",
    "    fourcc = cv2.VideoWriter_fourcc(*'mp4v')\n",
    "    video_dir_path = os.path.join(os.curdir,f'{folder_name}','video')\n",
    "    out = cv2.VideoWriter(os.path.join(video_dir_path,f'{folder_name}.mp4'), fourcc, 30.0, (640,480))\n",
    "    \n",
    "    print(f\"Strating for {folder_name} Class ....\")\n",
    "    time.sleep(5)\n",
    "    while True :\n",
    "        ret, frame = cap.read()\n",
    "        \n",
    "        \n",
    "        # write the flipped frame\n",
    "        cv2.imshow(f'{folder_name}_video', frame)\n",
    "        out.write(frame)\n",
    "        \n",
    "        if cv2.waitKey(1) & 0xFF == ord('q'):\n",
    "            break\n",
    "\n",
    "    # Release everything if job is finished\n",
    "    cap.release()\n",
    "    out.release()\n",
    "    cv2.destroyAllWindows()"
   ]
  },
  {
   "cell_type": "code",
   "execution_count": 8,
   "id": "49ed3541",
   "metadata": {},
   "outputs": [],
   "source": [
    "def video_to_image(folder_name):\n",
    "    import cv2\n",
    "    import os\n",
    "    \n",
    "    #get video folder path\n",
    "    video_dir_path = os.path.join(os.curdir,f'{folder_name}','video')\n",
    "    #getting the video path\n",
    "    video_ext = '.mp4'\n",
    "    for e in os.listdir(video_dir_path):\n",
    "        if os.path.isfile(os.path.join(video_dir_path,e)) and e.endswith(video_ext):\n",
    "            video_path = os.path.join(video_dir_path,e)\n",
    "    \n",
    "    #output folder path\n",
    "    image_folder = os.path.join(os.curdir,f'{folder_name}','images')\n",
    "    \n",
    "    cap = cv2.VideoCapture(video_path)\n",
    "    count = 0\n",
    "    while cap.isOpened():\n",
    "       # Read a frame from the video\n",
    "        ret, frame = cap.read()\n",
    "\n",
    "        # Check if the frame was successfully read\n",
    "        if ret:\n",
    "            # Construct the output file path\n",
    "            output_path = os.path.join(image_folder, f\"{folder_name}_{count:04d}.jpg\")\n",
    "\n",
    "            # Save the frame as an image\n",
    "            cv2.imwrite(output_path, frame)\n",
    "\n",
    "            # Increment the frame index\n",
    "            count += 1\n",
    "        else:\n",
    "            # Break if the end of the video file is reached\n",
    "            break\n",
    "\n",
    "\n",
    "    # Release everything\n",
    "    cap.release()\n",
    "    cv2.destroyAllWindows()\n",
    "\n",
    "    \n",
    "    "
   ]
  },
  {
   "cell_type": "code",
   "execution_count": 9,
   "id": "30c696a0",
   "metadata": {},
   "outputs": [
    {
     "name": "stdout",
     "output_type": "stream",
     "text": [
      "******************** Starting Video Recording ********************\n",
      "Strating for Up Class ....\n",
      "******************** Starting Video to Image for Up ******************** \n",
      "******************** Starting Video Recording ********************\n",
      "Strating for Down Class ....\n",
      "******************** Starting Video to Image for Down ******************** \n",
      "******************** Starting Video Recording ********************\n",
      "Strating for Left Class ....\n",
      "******************** Starting Video to Image for Left ******************** \n",
      "******************** Starting Video Recording ********************\n",
      "Strating for Right Class ....\n",
      "******************** Starting Video to Image for Right ******************** \n",
      "******************** Starting Video Recording ********************\n",
      "Strating for ThumbsUp Class ....\n",
      "******************** Starting Video to Image for ThumbsUp ******************** \n"
     ]
    }
   ],
   "source": [
    "for l in labels:\n",
    "    print(\"**\"*10 + \" \" + 'Starting Video Recording' + ' ' + \"**\"*10)\n",
    "    cap_video(l)\n",
    "    \n",
    "    time.sleep(5)\n",
    "    \n",
    "    print(\"**\"*10 + \" \" + f'Starting Video to Image for {l} '+ \"**\"*10 + \" \")\n",
    "    video_to_image(l)\n",
    "    \n",
    "    time.sleep(2)"
   ]
  },
  {
   "cell_type": "code",
   "execution_count": 13,
   "id": "5a22c603",
   "metadata": {},
   "outputs": [],
   "source": [
    "#Checking Number of photos in each class"
   ]
  },
  {
   "cell_type": "code",
   "execution_count": 14,
   "id": "a18742c8",
   "metadata": {},
   "outputs": [
    {
     "name": "stdout",
     "output_type": "stream",
     "text": [
      "The Number of photos in Up class is : 296\n",
      "************************************************************\n",
      "The Number of photos in Down class is : 355\n",
      "************************************************************\n",
      "The Number of photos in Left class is : 328\n",
      "************************************************************\n",
      "The Number of photos in Right class is : 385\n",
      "************************************************************\n",
      "The Number of photos in ThumbsUp class is : 373\n",
      "************************************************************\n"
     ]
    }
   ],
   "source": [
    "for label in labels:\n",
    "    image_folder = os.path.join(os.curdir,f'{label}','images')\n",
    "    print(f'The Number of photos in {label} class is : {len(os.listdir(image_folder))}')\n",
    "    print(\"***\"* 20)"
   ]
  },
  {
   "cell_type": "code",
   "execution_count": 15,
   "id": "376d230d",
   "metadata": {},
   "outputs": [],
   "source": [
    "#Taking 25 photos from each class for training and 5 for validation."
   ]
  },
  {
   "cell_type": "code",
   "execution_count": 17,
   "id": "3c92a172",
   "metadata": {},
   "outputs": [],
   "source": [
    "import random"
   ]
  },
  {
   "cell_type": "code",
   "execution_count": 31,
   "id": "764a5549",
   "metadata": {},
   "outputs": [],
   "source": [
    "### Run the below code only for once when the folder is empty."
   ]
  },
  {
   "cell_type": "code",
   "execution_count": 30,
   "id": "abd1e70a",
   "metadata": {},
   "outputs": [
    {
     "name": "stdout",
     "output_type": "stream",
     "text": [
      "Starting for Up class\n",
      "Starting Copying for train folder\n",
      "        1 file(s) copied.\n",
      "        1 file(s) copied.\n",
      "        1 file(s) copied.\n",
      "        1 file(s) copied.\n",
      "        1 file(s) copied.\n",
      "        1 file(s) copied.\n",
      "        1 file(s) copied.\n",
      "        1 file(s) copied.\n",
      "        1 file(s) copied.\n",
      "        1 file(s) copied.\n",
      "        1 file(s) copied.\n",
      "        1 file(s) copied.\n",
      "        1 file(s) copied.\n",
      "        1 file(s) copied.\n",
      "        1 file(s) copied.\n",
      "        1 file(s) copied.\n",
      "        1 file(s) copied.\n",
      "        1 file(s) copied.\n",
      "        1 file(s) copied.\n",
      "        1 file(s) copied.\n",
      "        1 file(s) copied.\n",
      "        1 file(s) copied.\n",
      "        1 file(s) copied.\n",
      "        1 file(s) copied.\n",
      "        1 file(s) copied.Starting Copying for test folder\n",
      "\n",
      "        1 file(s) copied.\n",
      "        1 file(s) copied.\n",
      "        1 file(s) copied.\n",
      "        1 file(s) copied.\n",
      "        1 file(s) copied.Starting for Down class\n",
      "\n",
      "Starting Copying for train folder\n",
      "        1 file(s) copied.\n",
      "        1 file(s) copied.\n",
      "        1 file(s) copied.\n",
      "        1 file(s) copied.\n",
      "        1 file(s) copied.\n",
      "        1 file(s) copied.\n",
      "        1 file(s) copied.\n",
      "        1 file(s) copied.\n",
      "        1 file(s) copied.\n",
      "        1 file(s) copied.\n",
      "        1 file(s) copied.\n",
      "        1 file(s) copied.\n",
      "        1 file(s) copied.\n",
      "        1 file(s) copied.\n",
      "        1 file(s) copied.\n",
      "        1 file(s) copied.\n",
      "        1 file(s) copied.\n",
      "        1 file(s) copied.\n",
      "        1 file(s) copied.\n",
      "        1 file(s) copied.\n",
      "        1 file(s) copied.\n",
      "        1 file(s) copied.\n",
      "        1 file(s) copied.\n",
      "        1 file(s) copied.\n",
      "        1 file(s) copied.\n",
      "Starting Copying for test folder\n",
      "        1 file(s) copied.\n",
      "        1 file(s) copied.\n",
      "        1 file(s) copied.\n",
      "        1 file(s) copied.\n",
      "        1 file(s) copied.\n",
      "Starting for Left class\n",
      "Starting Copying for train folder\n",
      "        1 file(s) copied.\n",
      "        1 file(s) copied.\n",
      "        1 file(s) copied.\n",
      "        1 file(s) copied.\n",
      "        1 file(s) copied.\n",
      "        1 file(s) copied.\n",
      "        1 file(s) copied.\n",
      "        1 file(s) copied.\n",
      "        1 file(s) copied.\n",
      "        1 file(s) copied.\n",
      "        1 file(s) copied.\n",
      "        1 file(s) copied.\n",
      "        1 file(s) copied.\n",
      "        1 file(s) copied.\n",
      "        1 file(s) copied.\n",
      "        1 file(s) copied.\n",
      "        1 file(s) copied.\n",
      "        1 file(s) copied.\n",
      "        1 file(s) copied.\n",
      "        1 file(s) copied.\n",
      "        1 file(s) copied.\n",
      "        1 file(s) copied.\n",
      "        1 file(s) copied.\n",
      "        1 file(s) copied.\n",
      "        1 file(s) copied.\n",
      "Starting Copying for test folder\n",
      "        1 file(s) copied.\n",
      "        1 file(s) copied.\n",
      "        1 file(s) copied.\n",
      "        1 file(s) copied.\n",
      "        1 file(s) copied.Starting for Right class\n",
      "\n",
      "Starting Copying for train folder\n",
      "        1 file(s) copied.\n",
      "        1 file(s) copied.\n",
      "        1 file(s) copied.\n",
      "        1 file(s) copied.\n",
      "        1 file(s) copied.\n",
      "        1 file(s) copied.\n",
      "        1 file(s) copied.\n",
      "        1 file(s) copied.\n",
      "        1 file(s) copied.\n",
      "        1 file(s) copied.\n",
      "        1 file(s) copied.\n",
      "        1 file(s) copied.\n",
      "        1 file(s) copied.\n",
      "        1 file(s) copied.\n",
      "        1 file(s) copied.\n",
      "        1 file(s) copied.\n",
      "        1 file(s) copied.\n",
      "        1 file(s) copied.\n",
      "        1 file(s) copied.\n",
      "        1 file(s) copied.\n",
      "        1 file(s) copied.\n",
      "        1 file(s) copied.\n",
      "        1 file(s) copied.\n",
      "        1 file(s) copied.\n",
      "        1 file(s) copied.Starting Copying for test folder\n",
      "\n",
      "        1 file(s) copied.\n",
      "        1 file(s) copied.\n",
      "        1 file(s) copied.\n",
      "        1 file(s) copied.\n",
      "        1 file(s) copied.Starting for ThumbsUp class\n",
      "\n",
      "Starting Copying for train folder\n",
      "        1 file(s) copied.\n",
      "        1 file(s) copied.\n",
      "        1 file(s) copied.\n",
      "        1 file(s) copied.\n",
      "        1 file(s) copied.\n",
      "        1 file(s) copied.\n",
      "        1 file(s) copied.\n",
      "        1 file(s) copied.\n",
      "        1 file(s) copied.\n",
      "        1 file(s) copied.\n",
      "        1 file(s) copied.\n",
      "        1 file(s) copied.\n",
      "        1 file(s) copied.\n",
      "        1 file(s) copied.\n",
      "        1 file(s) copied.\n",
      "        1 file(s) copied.\n",
      "        1 file(s) copied.\n",
      "        1 file(s) copied.\n",
      "        1 file(s) copied.\n",
      "        1 file(s) copied.\n",
      "        1 file(s) copied.\n",
      "        1 file(s) copied.\n",
      "        1 file(s) copied.\n",
      "        1 file(s) copied.\n",
      "        1 file(s) copied.\n",
      "Starting Copying for test folder\n",
      "        1 file(s) copied.\n",
      "        1 file(s) copied.\n",
      "        1 file(s) copied.\n",
      "        1 file(s) copied.\n",
      "        1 file(s) copied.\n"
     ]
    }
   ],
   "source": [
    "for label in labels:\n",
    "    print(f'Starting for {label} class')\n",
    "    image_folder = os.path.join(os.curdir,f'{label}','images')\n",
    "    list_of_photos = []\n",
    "    for ph in os.listdir(image_folder)[:100]:\n",
    "        list_of_photos.append(os.path.join(image_folder,ph))\n",
    "    \n",
    "    #randomly selecting 25 photos\n",
    "    list_of_train_photos = random.sample(list_of_photos,25)\n",
    "    list_of_test_photos = random.sample(list_of_photos,5)\n",
    "    \n",
    "    #copy them to train and test folder \n",
    "    train_folder_path = os.path.join(os.curdir,'train')\n",
    "    test_folder_path = os.path.join(os.curdir,'test')\n",
    "    \n",
    "    print(\"Starting Copying for train folder\")\n",
    "    for p in list_of_train_photos:\n",
    "        !copy {p} {train_folder_path}\n",
    "    \n",
    "    print(\"Starting Copying for test folder\")\n",
    "    for po in list_of_test_photos:\n",
    "        !copy {po} {test_folder_path}\n",
    "    "
   ]
  },
  {
   "cell_type": "code",
   "execution_count": 32,
   "id": "35301689",
   "metadata": {},
   "outputs": [],
   "source": [
    "#Using labelmg for annotations "
   ]
  },
  {
   "cell_type": "code",
   "execution_count": 1,
   "id": "5ac4b02b",
   "metadata": {},
   "outputs": [],
   "source": [
    "#Create a dataset folder and structure in this way\n",
    "#inside it would be a image folder and a label folder \n",
    "#inside image there would train and test folder, same for label\n",
    "#inside image/train --> all photo for training , image/test --> all photo for testing \n",
    "#same thing for label"
   ]
  },
  {
   "cell_type": "code",
   "execution_count": 2,
   "id": "abfced26",
   "metadata": {},
   "outputs": [],
   "source": [
    "#Create the dataset.yaml\n"
   ]
  },
  {
   "cell_type": "code",
   "execution_count": null,
   "id": "7a87a287",
   "metadata": {},
   "outputs": [],
   "source": []
  }
 ],
 "metadata": {
  "kernelspec": {
   "display_name": "Python 3 (ipykernel)",
   "language": "python",
   "name": "python3"
  },
  "language_info": {
   "codemirror_mode": {
    "name": "ipython",
    "version": 3
   },
   "file_extension": ".py",
   "mimetype": "text/x-python",
   "name": "python",
   "nbconvert_exporter": "python",
   "pygments_lexer": "ipython3",
   "version": "3.10.5"
  }
 },
 "nbformat": 4,
 "nbformat_minor": 5
}
